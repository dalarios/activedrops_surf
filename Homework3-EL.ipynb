{
 "cells": [
  {
   "cell_type": "code",
   "execution_count": null,
   "metadata": {},
   "outputs": [],
   "source": [
    "import Edgar_package as pa\n",
    "import pandas as pd\n",
    "import numpy as np\n",
    "import matplotlib.pyplot as plt\n",
    "from skimage import io\n",
    "import csv\n",
    "import glob\n",
    "from scipy.ndimage import gaussian_filter1d\n",
    "from scipy.integrate import solve_ivp\n",
    "from ipywidgets import interact, FloatSlider, Layout, interactive\n",
    "from scipy.optimize import minimize\n"
   ]
  },
  {
   "attachments": {},
   "cell_type": "markdown",
   "metadata": {},
   "source": [
    "k401"
   ]
  },
  {
   "cell_type": "code",
   "execution_count": null,
   "metadata": {},
   "outputs": [],
   "source": [
    "paths = sorted(glob.glob(\"/Users/edgarlarios/Dropbox/SURF_activedrops/Edgar/k401-activedrops/img_*********_gfp-4x_000.tif\")) # The paths must be sorted\n",
    "calibration_curve_paths = sorted(glob.glob(\"/Users/edgarlarios/Dropbox/SURF_activedrops/Edgar/calibration_curve/***ugml.tif\")) # These paths must also be sorted\n",
    "\n",
    "# Provide your specific values for N_p, N_m, D, and initial guesses - Known data\n",
    "N_p = 401  # Number of amino acids\n",
    "N_m = 2097  # Number of nucleotides\n",
    "D = 100  # DNA concentration\n",
    "\n",
    "# Initial guesses for the optimization parameters -- Reasonable guesses\n",
    "k_TL = 10      # Translation rate constant (1/s)\n",
    "k_TX = 1       # Transcription rate constant (1/s)\n",
    "R_p = 30       # Protein production rate (molecules/s)\n",
    "tau_m = 720    # Mean lifetime of mRNA (s)\n",
    "K_TL = 5       # Translation efficiency constant (unitless)\n",
    "R = 80        # Ribosome concentration (units)\n",
    "k_deg = 0.01   # Degradation rate constant (1/s)\n",
    "X_p = 1        # Protein concentration (nM)\n",
    "K_p = 4        # Protein degradation constant (nM)\n",
    "tau_0 = 0     # Initial time delay (s)\n",
    "tau_f = 300    # Final time delay (s)\n",
    "\n",
    "initial_guesses = [k_TL, k_TX, R_p, tau_m, K_TL, R, k_deg, X_p, K_p, tau_0, tau_f] # ***In the future, ask for inputs to the user\n",
    "\n",
    "# Time interval should be given in minutes, volume of the droplet should be given in microliters, molecular weight should be given in kDa\n",
    "pa.runFullAnalysis(paths, calibration_curve_paths, 3, 2, 78.2, N_p, N_m, D, initial_guesses, \"experimentalData_k401.csv\", \"optimizedParameters_k401.csv\")"
   ]
  },
  {
   "attachments": {},
   "cell_type": "markdown",
   "metadata": {},
   "source": [
    "kif3"
   ]
  },
  {
   "cell_type": "code",
   "execution_count": null,
   "metadata": {},
   "outputs": [],
   "source": [
    "paths = sorted(glob.glob(\"/Users/edgarlarios/Dropbox/SURF_activedrops/Edgar/kif3-activedrops/img_*********_gfp-4x_000.tif\"))\n",
    "calibration_curve_paths = sorted(glob.glob(\"/Users/edgarlarios/Dropbox/SURF_activedrops/Edgar/calibration_curve/***ugml.tif\"))\n",
    "\n",
    "# Provide your specific values for N_p, N_m, D, and initial guesses\n",
    "N_p = 592  # Number of amino acids\n",
    "N_m = 2711  # Number of nucleotides\n",
    "D = 100  # DNA concentration\n",
    "\n",
    "# Initial guesses for the optimization parameters\n",
    "k_TL = 10      # Translation rate constant (1/s)\n",
    "k_TX = 1       # Transcription rate constant (1/s)\n",
    "R_p = 30       # RNA polymerase concentration (nM)\n",
    "tau_m = 720    # Mean lifetime of mRNA (s)\n",
    "K_TL = 5       # Translation efficiency constant (unitless)\n",
    "R = 80        # Ribosome concentration (nM)\n",
    "k_deg = 0.01   # Degradation rate constant (1/s)\n",
    "X_p = 1        # Protein concentration (nM)\n",
    "K_p = 4        # Protein degradation constant (nM)\n",
    "tau_0 = 0    # Transcription delay (s)\n",
    "tau_f = 300    # Protein Folding delay (s)\n",
    "\n",
    "initial_guesses = [k_TL, k_TX, R_p, tau_m, K_TL, R, k_deg, X_p, K_p, tau_0, tau_f] # ***In the future, ask for inputs to the user\n",
    "\n",
    "# wrapper function to run the full analysis\n",
    "# Time interval should be given in minutes, volume of the droplet should be given in microliters, molecular weight should be given in kDa\n",
    "pa.runFullAnalysis(paths, calibration_curve_paths, 0.5, 2, 97.7, N_p, N_m, D, initial_guesses, \"experimentalData_kif3.csv\", \"optimizedParameters_kif3.csv\")\n",
    " "
   ]
  },
  {
   "attachments": {},
   "cell_type": "markdown",
   "metadata": {},
   "source": [
    "Chimera A \n",
    "\n",
    "A,B,C,D are the same as k401"
   ]
  },
  {
   "cell_type": "code",
   "execution_count": null,
   "metadata": {},
   "outputs": [],
   "source": [
    "# Provide your specific values for N_p, N_m, D, and initial guesses\n",
    "N_p = 401  # Number of amino acids\n",
    "N_m = 2097  # Number of nucleotides\n",
    "D = 100  # DNA concentration\n",
    "\n",
    "# Initial guesses for the optimization parameters\n",
    "k_TL = 10      # Translation rate constant (1/s)\n",
    "k_TX = 1       # Transcription rate constant (1/s)\n",
    "R_p = 30       # RNA polymerase concentration (nM)\n",
    "tau_m = 720    # Mean lifetime of mRNA (s)\n",
    "K_TL = 5       # Translation efficiency constant (unitless)\n",
    "R = 80        # Ribosome concentration (nM)\n",
    "k_deg = 0.01   # Degradation rate constant (1/s)\n",
    "X_p = 1        # Protein concentration (nM)\n",
    "K_p = 4        # Protein degradation constant (nM)\n",
    "tau_0 = 0    # Transcription delay (s)\n",
    "tau_f = 300    # Protein Folding delay (s)\n",
    "\n",
    "initial_guesses = [k_TL, k_TX, R_p, tau_m, K_TL, R, k_deg, X_p, K_p, tau_0, tau_f] # ***In the future, ask for inputs to the user\n",
    "\n",
    "# Wrapper function to run the theoretical analysis ONLY\n",
    "pa.runTheoreticalAnalysis(\"experimentalData_A.csv\", N_p, N_m, D, initial_guesses, \"optimizedParameters_A.csv\")"
   ]
  },
  {
   "attachments": {},
   "cell_type": "markdown",
   "metadata": {},
   "source": [
    "Chimera B\n",
    "\n",
    "E,F,G,H are the same as kif3"
   ]
  },
  {
   "cell_type": "code",
   "execution_count": null,
   "metadata": {},
   "outputs": [],
   "source": [
    "# Provide your specific values for N_p, N_m, D, and initial guesses\n",
    "N_p = 401  # Number of amino acids\n",
    "N_m = 2097  # Number of nucleotides\n",
    "D = 100  # DNA concentration\n",
    "\n",
    "# Initial guesses for the optimization parameters\n",
    "k_TL = 10      # Translation rate constant (1/s)\n",
    "k_TX = 1       # Transcription rate constant (1/s)\n",
    "R_p = 30       # RNA polymerase concentration (nM)\n",
    "tau_m = 720    # Mean lifetime of mRNA (s)\n",
    "K_TL = 5       # Translation efficiency constant (unitless)\n",
    "R = 80        # Ribosome concentration (nM)\n",
    "k_deg = 0.01   # Degradation rate constant (1/s)\n",
    "X_p = 1        # Protein concentration (nM)\n",
    "K_p = 4        # Protein degradation constant (nM)\n",
    "tau_0 = 0    # Transcription delay (s)\n",
    "tau_f = 300    # Protein Folding delay (s)\n",
    "\n",
    "initial_guesses = [k_TL, k_TX, R_p, tau_m, K_TL, R, k_deg, X_p, K_p, tau_0, tau_f] # ***In the future, ask for inputs to the user\n",
    "\n",
    "# Wrapper function to run the theoretical analysis ONLY\n",
    "pa.runTheoreticalAnalysis(\"experimentalData_B.csv\", N_p, N_m, D, initial_guesses, \"optimizedParameters_B.csv\")"
   ]
  },
  {
   "attachments": {},
   "cell_type": "markdown",
   "metadata": {},
   "source": [
    "Chimera E"
   ]
  },
  {
   "cell_type": "code",
   "execution_count": null,
   "metadata": {},
   "outputs": [],
   "source": [
    "# Provide your specific values for N_p, N_m, D, and initial guesses\n",
    "N_p = 592  # Number of amino acids\n",
    "N_m = 2711  # Number of nucleotides\n",
    "D = 100  # DNA concentration\n",
    "\n",
    "# Initial guesses for the optimization parameters\n",
    "k_TL = 10      # Translation rate constant (1/s)\n",
    "k_TX = 1       # Transcription rate constant (1/s)\n",
    "R_p = 30       # RNA polymerase concentration (nM)\n",
    "tau_m = 720    # Mean lifetime of mRNA (s)\n",
    "K_TL = 5       # Translation efficiency constant (unitless)\n",
    "R = 80        # Ribosome concentration (nM)\n",
    "k_deg = 0.01   # Degradation rate constant (1/s)\n",
    "X_p = 1        # Protein concentration (nM)\n",
    "K_p = 4        # Protein degradation constant (nM)\n",
    "tau_0 = 0    # Transcription delay (s)\n",
    "tau_f = 300    # Protein Folding delay (s)\n",
    "\n",
    "initial_guesses = [k_TL, k_TX, R_p, tau_m, K_TL, R, k_deg, X_p, K_p, tau_0, tau_f] # ***In the future, ask for inputs to the user\n",
    "\n",
    "# Wrapper function to run the theoretical analysis ONLY\n",
    "pa.runTheoreticalAnalysis(\"experimentalData_E.csv\", N_p, N_m, D, initial_guesses, \"optimizedParameters_E.csv\")"
   ]
  },
  {
   "attachments": {},
   "cell_type": "markdown",
   "metadata": {},
   "source": [
    "1.- make sure the constrained optimization works for k401 and kif3 with the specified first guesses\n",
    "\n",
    "2.- the code should generate protein concentration vs time plots for k401 and kif3 (overlapped -- all). Make sure time is in the same units in all plots (minutes)\n",
    "\n",
    "3.- generate the experimental plot overlapped with the theoretical for each individual protein (k401 and kif3)\n",
    "\n",
    "4.- everything should run upon the wrapper function\n",
    "\n",
    "5.- generate the plot with sliders for each individual protein. Set inferred parameters as slider preset value.\n",
    "\n",
    "6.- create a scatter plot where the x axis is the different parameters names, the y axis is the value, and the color is the protein name."
   ]
  },
  {
   "cell_type": "code",
   "execution_count": null,
   "metadata": {},
   "outputs": [],
   "source": [
    "pa.showExperimentalDataTogether()\n",
    "pa.showTheoreticalDataTogether()"
   ]
  },
  {
   "cell_type": "code",
   "execution_count": null,
   "metadata": {},
   "outputs": [],
   "source": []
  },
  {
   "cell_type": "code",
   "execution_count": null,
   "metadata": {},
   "outputs": [],
   "source": []
  }
 ],
 "metadata": {
  "kernelspec": {
   "display_name": "base",
   "language": "python",
   "name": "python3"
  },
  "language_info": {
   "codemirror_mode": {
    "name": "ipython",
    "version": 3
   },
   "file_extension": ".py",
   "mimetype": "text/x-python",
   "name": "python",
   "nbconvert_exporter": "python",
   "pygments_lexer": "ipython3",
   "version": "3.11.7"
  },
  "orig_nbformat": 4
 },
 "nbformat": 4,
 "nbformat_minor": 2
}
