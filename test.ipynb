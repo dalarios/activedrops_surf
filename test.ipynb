{
 "cells": [
  {
   "cell_type": "code",
   "execution_count": 13,
   "metadata": {},
   "outputs": [],
   "source": [
    "import package as pac\n",
    "import pandas as pd\n",
    "import numpy as np\n",
    "import matplotlib.pyplot as plt\n",
    "from skimage import io\n",
    "import csv\n",
    "import glob\n",
    "from scipy.ndimage import gaussian_filter1d\n",
    "from scipy.integrate import solve_ivp\n",
    "from ipywidgets import interact, FloatSlider, Layout, interactive\n",
    "from scipy.optimize import minimize\n"
   ]
  },
  {
   "cell_type": "code",
   "execution_count": 16,
   "metadata": {},
   "outputs": [
    {
     "ename": "AttributeError",
     "evalue": "module 'package' has no attribute 'placesList'",
     "output_type": "error",
     "traceback": [
      "\u001b[0;31m---------------------------------------------------------------------------\u001b[0m",
      "\u001b[0;31mAttributeError\u001b[0m                            Traceback (most recent call last)",
      "Cell \u001b[0;32mIn[16], line 2\u001b[0m\n\u001b[1;32m      1\u001b[0m pac\u001b[39m.\u001b[39ma(\u001b[39m50\u001b[39m)\n\u001b[0;32m----> 2\u001b[0m pac\u001b[39m.\u001b[39mplacesList\n",
      "\u001b[0;31mAttributeError\u001b[0m: module 'package' has no attribute 'placesList'"
     ]
    }
   ],
   "source": [
    "# ------ Part 1 ------ \n",
    "paths = sorted(glob.glob(\"/Users/edgarlarios/Dropbox/SURF_activedrops/Edgar/k401-activedrops/img_*********_gfp-4x_000.tif\"))\n",
    "calibration_curve_paths = sorted(glob.glob(\"/Users/edgarlarios/Dropbox/SURF_activedrops/Edgar/calibration_curve/***ugml.tif\"))\n",
    "\n",
    "# The molecular weight must be passed in kDa, the volume of the droplet must be passed in microliters, and the time interval must be passed in minutes\n",
    "pac.runProteinAnalysis(paths, calibration_curve_paths, 0.5, 0.000002, 100, \"k401_Data.csv\") # This is the analysis for the \"k401\" protein\n",
    "\n",
    "# ------ Part 2 ------ \n",
    "csvFiles = glob.glob(\"k*.csv\") # Save into a list all the .csv file paths. Each .csv file is associated wwith a protein experiment\n",
    "pac.showProteinDataTogether(csvFiles) # Call the function, passing as an argument the list that contains all the .csv file paths\n",
    "\n",
    "# ------ Part 3 ------ \n",
    "pac.showModel()\n",
    "\n",
    "# ------ Part 4 ------ \n",
    "pac.showOptimizedModel()"
   ]
  }
 ],
 "metadata": {
  "kernelspec": {
   "display_name": "base",
   "language": "python",
   "name": "python3"
  },
  "language_info": {
   "codemirror_mode": {
    "name": "ipython",
    "version": 3
   },
   "file_extension": ".py",
   "mimetype": "text/x-python",
   "name": "python",
   "nbconvert_exporter": "python",
   "pygments_lexer": "ipython3",
   "version": "3.11.7"
  }
 },
 "nbformat": 4,
 "nbformat_minor": 2
}
