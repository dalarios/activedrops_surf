{
 "cells": [
  {
   "cell_type": "code",
   "execution_count": 1,
   "metadata": {},
   "outputs": [
    {
     "ename": "IndexError",
     "evalue": "index 0 is out of bounds for axis 0 with size 0",
     "output_type": "error",
     "traceback": [
      "\u001b[0;31m---------------------------------------------------------------------------\u001b[0m",
      "\u001b[0;31mIndexError\u001b[0m                                Traceback (most recent call last)",
      "Cell \u001b[0;32mIn[1], line 1\u001b[0m\n\u001b[0;32m----> 1\u001b[0m \u001b[39mimport\u001b[39;00m \u001b[39mpackage\u001b[39;00m \u001b[39mas\u001b[39;00m \u001b[39mpac\u001b[39;00m\n\u001b[1;32m      2\u001b[0m \u001b[39mimport\u001b[39;00m \u001b[39mpandas\u001b[39;00m \u001b[39mas\u001b[39;00m \u001b[39mpd\u001b[39;00m\n\u001b[1;32m      3\u001b[0m \u001b[39mimport\u001b[39;00m \u001b[39mnumpy\u001b[39;00m \u001b[39mas\u001b[39;00m \u001b[39mnp\u001b[39;00m\n",
      "File \u001b[0;32m~/git/activedrops_surf/package.py:385\u001b[0m\n\u001b[1;32m    382\u001b[0m \u001b[39m# 1st element: k_TL; 2nd element: k_TX; 3th element: R_p; 4th element: tau_m; 5th element: K_TL; 6th element: R; 7th element: k_deg; 8th element: X_p; 9th element: K_p; 10th element: tau_0, 11th element: tau_f\u001b[39;00m\n\u001b[1;32m    383\u001b[0m initial_guesses \u001b[39m=\u001b[39m [\u001b[39m10\u001b[39m, \u001b[39m1\u001b[39m, \u001b[39m30\u001b[39m, \u001b[39m720\u001b[39m, \u001b[39m5\u001b[39m, \u001b[39m190\u001b[39m, \u001b[39m0.01\u001b[39m, \u001b[39m9\u001b[39m, \u001b[39m4\u001b[39m, \u001b[39m0\u001b[39m, \u001b[39m300\u001b[39m] \u001b[39m# The guesses are the same for ALL the motor proteins \u001b[39;00m\n\u001b[0;32m--> 385\u001b[0m result \u001b[39m=\u001b[39m minimize(objective_function, initial_guesses, method\u001b[39m=\u001b[39m\u001b[39m'\u001b[39m\u001b[39mTNC\u001b[39m\u001b[39m'\u001b[39m) \u001b[39m# \"L-BFGS-B\" is a popular method to minimize an objective function. \"TNC\" is another method to minimize an objective function\u001b[39;00m\n\u001b[1;32m    386\u001b[0m optimizedParameters \u001b[39m=\u001b[39m result\u001b[39m.\u001b[39mx \u001b[39m#  Since \"result\" is an object, we need to access a certain attribute of \"result\" to extract the optimized parameters\u001b[39;00m\n\u001b[1;32m    388\u001b[0m \u001b[39mdef\u001b[39;00m \u001b[39mshowOptimizedModel\u001b[39m():\n\u001b[1;32m    389\u001b[0m \n\u001b[1;32m    390\u001b[0m     \u001b[39m# Print the optimized parameters\u001b[39;00m\n",
      "File \u001b[0;32m/Applications/anaconda3/lib/python3.11/site-packages/scipy/optimize/_minimize.py:713\u001b[0m, in \u001b[0;36mminimize\u001b[0;34m(fun, x0, args, method, jac, hess, hessp, bounds, constraints, tol, callback, options)\u001b[0m\n\u001b[1;32m    710\u001b[0m     res \u001b[39m=\u001b[39m _minimize_lbfgsb(fun, x0, args, jac, bounds,\n\u001b[1;32m    711\u001b[0m                            callback\u001b[39m=\u001b[39mcallback, \u001b[39m*\u001b[39m\u001b[39m*\u001b[39moptions)\n\u001b[1;32m    712\u001b[0m \u001b[39melif\u001b[39;00m meth \u001b[39m==\u001b[39m \u001b[39m'\u001b[39m\u001b[39mtnc\u001b[39m\u001b[39m'\u001b[39m:\n\u001b[0;32m--> 713\u001b[0m     res \u001b[39m=\u001b[39m _minimize_tnc(fun, x0, args, jac, bounds, callback\u001b[39m=\u001b[39mcallback,\n\u001b[1;32m    714\u001b[0m                         \u001b[39m*\u001b[39m\u001b[39m*\u001b[39moptions)\n\u001b[1;32m    715\u001b[0m \u001b[39melif\u001b[39;00m meth \u001b[39m==\u001b[39m \u001b[39m'\u001b[39m\u001b[39mcobyla\u001b[39m\u001b[39m'\u001b[39m:\n\u001b[1;32m    716\u001b[0m     res \u001b[39m=\u001b[39m _minimize_cobyla(fun, x0, args, constraints, callback\u001b[39m=\u001b[39mcallback,\n\u001b[1;32m    717\u001b[0m                            bounds\u001b[39m=\u001b[39mbounds, \u001b[39m*\u001b[39m\u001b[39m*\u001b[39moptions)\n",
      "File \u001b[0;32m/Applications/anaconda3/lib/python3.11/site-packages/scipy/optimize/_tnc.py:374\u001b[0m, in \u001b[0;36m_minimize_tnc\u001b[0;34m(fun, x0, args, jac, bounds, eps, scale, offset, mesg_num, maxCGit, eta, stepmx, accuracy, minfev, ftol, xtol, gtol, rescale, disp, callback, finite_diff_rel_step, maxfun, **unknown_options)\u001b[0m\n\u001b[1;32m    371\u001b[0m \u001b[39melse\u001b[39;00m:\n\u001b[1;32m    372\u001b[0m     messages \u001b[39m=\u001b[39m MSG_NONE\n\u001b[0;32m--> 374\u001b[0m sf \u001b[39m=\u001b[39m _prepare_scalar_function(fun, x0, jac\u001b[39m=\u001b[39mjac, args\u001b[39m=\u001b[39margs, epsilon\u001b[39m=\u001b[39meps,\n\u001b[1;32m    375\u001b[0m                               finite_diff_rel_step\u001b[39m=\u001b[39mfinite_diff_rel_step,\n\u001b[1;32m    376\u001b[0m                               bounds\u001b[39m=\u001b[39mnew_bounds)\n\u001b[1;32m    377\u001b[0m func_and_grad \u001b[39m=\u001b[39m sf\u001b[39m.\u001b[39mfun_and_grad\n\u001b[1;32m    379\u001b[0m \u001b[39m\u001b[39m\u001b[39m\"\"\"\u001b[39;00m\n\u001b[1;32m    380\u001b[0m \u001b[39mlow, up   : the bounds (lists of floats)\u001b[39;00m\n\u001b[1;32m    381\u001b[0m \u001b[39m            if low is None, the lower bounds are removed.\u001b[39;00m\n\u001b[1;32m    382\u001b[0m \u001b[39m            if up is None, the upper bounds are removed.\u001b[39;00m\n\u001b[1;32m    383\u001b[0m \u001b[39m            low and up defaults to None\u001b[39;00m\n\u001b[1;32m    384\u001b[0m \u001b[39m\"\"\"\u001b[39;00m\n",
      "File \u001b[0;32m/Applications/anaconda3/lib/python3.11/site-packages/scipy/optimize/_optimize.py:383\u001b[0m, in \u001b[0;36m_prepare_scalar_function\u001b[0;34m(fun, x0, jac, args, bounds, epsilon, finite_diff_rel_step, hess)\u001b[0m\n\u001b[1;32m    379\u001b[0m     bounds \u001b[39m=\u001b[39m (\u001b[39m-\u001b[39mnp\u001b[39m.\u001b[39minf, np\u001b[39m.\u001b[39minf)\n\u001b[1;32m    381\u001b[0m \u001b[39m# ScalarFunction caches. Reuse of fun(x) during grad\u001b[39;00m\n\u001b[1;32m    382\u001b[0m \u001b[39m# calculation reduces overall function evaluations.\u001b[39;00m\n\u001b[0;32m--> 383\u001b[0m sf \u001b[39m=\u001b[39m ScalarFunction(fun, x0, args, grad, hess,\n\u001b[1;32m    384\u001b[0m                     finite_diff_rel_step, bounds, epsilon\u001b[39m=\u001b[39mepsilon)\n\u001b[1;32m    386\u001b[0m \u001b[39mreturn\u001b[39;00m sf\n",
      "File \u001b[0;32m/Applications/anaconda3/lib/python3.11/site-packages/scipy/optimize/_differentiable_functions.py:158\u001b[0m, in \u001b[0;36mScalarFunction.__init__\u001b[0;34m(self, fun, x0, args, grad, hess, finite_diff_rel_step, finite_diff_bounds, epsilon)\u001b[0m\n\u001b[1;32m    155\u001b[0m     \u001b[39mself\u001b[39m\u001b[39m.\u001b[39mf \u001b[39m=\u001b[39m fun_wrapped(\u001b[39mself\u001b[39m\u001b[39m.\u001b[39mx)\n\u001b[1;32m    157\u001b[0m \u001b[39mself\u001b[39m\u001b[39m.\u001b[39m_update_fun_impl \u001b[39m=\u001b[39m update_fun\n\u001b[0;32m--> 158\u001b[0m \u001b[39mself\u001b[39m\u001b[39m.\u001b[39m_update_fun()\n\u001b[1;32m    160\u001b[0m \u001b[39m# Gradient evaluation\u001b[39;00m\n\u001b[1;32m    161\u001b[0m \u001b[39mif\u001b[39;00m \u001b[39mcallable\u001b[39m(grad):\n",
      "File \u001b[0;32m/Applications/anaconda3/lib/python3.11/site-packages/scipy/optimize/_differentiable_functions.py:251\u001b[0m, in \u001b[0;36mScalarFunction._update_fun\u001b[0;34m(self)\u001b[0m\n\u001b[1;32m    249\u001b[0m \u001b[39mdef\u001b[39;00m \u001b[39m_update_fun\u001b[39m(\u001b[39mself\u001b[39m):\n\u001b[1;32m    250\u001b[0m     \u001b[39mif\u001b[39;00m \u001b[39mnot\u001b[39;00m \u001b[39mself\u001b[39m\u001b[39m.\u001b[39mf_updated:\n\u001b[0;32m--> 251\u001b[0m         \u001b[39mself\u001b[39m\u001b[39m.\u001b[39m_update_fun_impl()\n\u001b[1;32m    252\u001b[0m         \u001b[39mself\u001b[39m\u001b[39m.\u001b[39mf_updated \u001b[39m=\u001b[39m \u001b[39mTrue\u001b[39;00m\n",
      "File \u001b[0;32m/Applications/anaconda3/lib/python3.11/site-packages/scipy/optimize/_differentiable_functions.py:155\u001b[0m, in \u001b[0;36mScalarFunction.__init__.<locals>.update_fun\u001b[0;34m()\u001b[0m\n\u001b[1;32m    154\u001b[0m \u001b[39mdef\u001b[39;00m \u001b[39mupdate_fun\u001b[39m():\n\u001b[0;32m--> 155\u001b[0m     \u001b[39mself\u001b[39m\u001b[39m.\u001b[39mf \u001b[39m=\u001b[39m fun_wrapped(\u001b[39mself\u001b[39m\u001b[39m.\u001b[39mx)\n",
      "File \u001b[0;32m/Applications/anaconda3/lib/python3.11/site-packages/scipy/optimize/_differentiable_functions.py:137\u001b[0m, in \u001b[0;36mScalarFunction.__init__.<locals>.fun_wrapped\u001b[0;34m(x)\u001b[0m\n\u001b[1;32m    133\u001b[0m \u001b[39mself\u001b[39m\u001b[39m.\u001b[39mnfev \u001b[39m+\u001b[39m\u001b[39m=\u001b[39m \u001b[39m1\u001b[39m\n\u001b[1;32m    134\u001b[0m \u001b[39m# Send a copy because the user may overwrite it.\u001b[39;00m\n\u001b[1;32m    135\u001b[0m \u001b[39m# Overwriting results in undefined behaviour because\u001b[39;00m\n\u001b[1;32m    136\u001b[0m \u001b[39m# fun(self.x) will change self.x, with the two no longer linked.\u001b[39;00m\n\u001b[0;32m--> 137\u001b[0m fx \u001b[39m=\u001b[39m fun(np\u001b[39m.\u001b[39mcopy(x), \u001b[39m*\u001b[39margs)\n\u001b[1;32m    138\u001b[0m \u001b[39m# Make sure the function returns a true scalar\u001b[39;00m\n\u001b[1;32m    139\u001b[0m \u001b[39mif\u001b[39;00m \u001b[39mnot\u001b[39;00m np\u001b[39m.\u001b[39misscalar(fx):\n",
      "File \u001b[0;32m~/git/activedrops_surf/package.py:379\u001b[0m, in \u001b[0;36mobjective_function\u001b[0;34m(params)\u001b[0m\n\u001b[1;32m    378\u001b[0m \u001b[39mdef\u001b[39;00m \u001b[39mobjective_function\u001b[39m(params):\n\u001b[0;32m--> 379\u001b[0m     pModel \u001b[39m=\u001b[39m solve_ODE(params)\n\u001b[1;32m    380\u001b[0m     \u001b[39mreturn\u001b[39;00m np\u001b[39m.\u001b[39msum((subset_ProteinConcentration_nM_List\u001b[39m-\u001b[39mpModel)\u001b[39m*\u001b[39m\u001b[39m*\u001b[39m\u001b[39m2\u001b[39m)\n",
      "File \u001b[0;32m~/git/activedrops_surf/package.py:374\u001b[0m, in \u001b[0;36msolve_ODE\u001b[0;34m(params)\u001b[0m\n\u001b[1;32m    371\u001b[0m P_initial \u001b[39m=\u001b[39m \u001b[39m0\u001b[39m  \u001b[39m# At t = 0, the protein concentration P(0) = 0\u001b[39;00m\n\u001b[1;32m    373\u001b[0m \u001b[39m# All of the constants such as Q, S, k3... need to be passed as arguments into the solve_ivp()function\u001b[39;00m\n\u001b[0;32m--> 374\u001b[0m p \u001b[39m=\u001b[39m solve_ivp(dPdt, [T[\u001b[39m0\u001b[39m], T[\u001b[39m-\u001b[39m\u001b[39m1\u001b[39m]], [P_initial], t_eval\u001b[39m=\u001b[39mT, args\u001b[39m=\u001b[39m(Q, S, tau_0, tau_f, k3, k11), method \u001b[39m=\u001b[39m\u001b[39m\"\u001b[39m\u001b[39mLSODA\u001b[39m\u001b[39m\"\u001b[39m) \u001b[39m# Use the \"LSODA\" method to solve the ODE\u001b[39;00m\n\u001b[1;32m    375\u001b[0m \u001b[39mreturn\u001b[39;00m p\u001b[39m.\u001b[39my[\u001b[39m0\u001b[39m]\n",
      "\u001b[0;31mIndexError\u001b[0m: index 0 is out of bounds for axis 0 with size 0"
     ]
    }
   ],
   "source": [
    "import package as pac\n",
    "import pandas as pd\n",
    "import numpy as np\n",
    "import matplotlib.pyplot as plt\n",
    "from skimage import io\n",
    "import csv\n",
    "import glob\n",
    "from scipy.ndimage import gaussian_filter1d\n",
    "from scipy.integrate import solve_ivp\n",
    "from ipywidgets import interact, FloatSlider, Layout, interactive\n",
    "from scipy.optimize import minimize\n"
   ]
  },
  {
   "cell_type": "code",
   "execution_count": 16,
   "metadata": {},
   "outputs": [
    {
     "ename": "AttributeError",
     "evalue": "module 'package' has no attribute 'placesList'",
     "output_type": "error",
     "traceback": [
      "\u001b[0;31m---------------------------------------------------------------------------\u001b[0m",
      "\u001b[0;31mAttributeError\u001b[0m                            Traceback (most recent call last)",
      "Cell \u001b[0;32mIn[16], line 2\u001b[0m\n\u001b[1;32m      1\u001b[0m pac\u001b[39m.\u001b[39ma(\u001b[39m50\u001b[39m)\n\u001b[0;32m----> 2\u001b[0m pac\u001b[39m.\u001b[39mplacesList\n",
      "\u001b[0;31mAttributeError\u001b[0m: module 'package' has no attribute 'placesList'"
     ]
    }
   ],
   "source": [
    "# ------ Part 1 ------ \n",
    "paths = sorted(glob.glob(\"/Users/edgarlarios/Dropbox/SURF_activedrops/Edgar/k401-activedrops/img_*********_gfp-4x_000.tif\"))\n",
    "calibration_curve_paths = sorted(glob.glob(\"/Users/edgarlarios/Dropbox/SURF_activedrops/Edgar/calibration_curve/***ugml.tif\"))\n",
    "\n",
    "# The molecular weight must be passed in kDa, the volume of the droplet must be passed in microliters, and the time interval must be passed in minutes\n",
    "pac.runProteinAnalysis(paths, calibration_curve_paths, 0.5, 0.000002, 100, \"k401_Data.csv\") # This is the analysis for the \"k401\" protein\n",
    "\n",
    "# ------ Part 2 ------ \n",
    "csvFiles = glob.glob(\"k*.csv\") # Save into a list all the .csv file paths. Each .csv file is associated wwith a protein experiment\n",
    "pac.showProteinDataTogether(csvFiles) # Call the function, passing as an argument the list that contains all the .csv file paths\n",
    "\n",
    "# ------ Part 3 ------ \n",
    "pac.showModel()\n",
    "\n",
    "# ------ Part 4 ------ \n",
    "pac.showOptimizedModel()"
   ]
  }
 ],
 "metadata": {
  "kernelspec": {
   "display_name": "base",
   "language": "python",
   "name": "python3"
  },
  "language_info": {
   "codemirror_mode": {
    "name": "ipython",
    "version": 3
   },
   "file_extension": ".py",
   "mimetype": "text/x-python",
   "name": "python",
   "nbconvert_exporter": "python",
   "pygments_lexer": "ipython3",
   "version": "3.11.7"
  }
 },
 "nbformat": 4,
 "nbformat_minor": 2
}
