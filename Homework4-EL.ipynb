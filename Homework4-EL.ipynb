{
 "cells": [
  {
   "cell_type": "code",
   "execution_count": null,
   "metadata": {},
   "outputs": [],
   "source": [
    "import motor_proteins_V2 as mp2\n",
    "import pandas as pd\n",
    "import numpy as np\n",
    "import matplotlib.pyplot as plt\n",
    "from skimage import io\n",
    "import csv\n",
    "import glob\n",
    "from scipy.ndimage import gaussian_filter1d\n",
    "from scipy.integrate import solve_ivp\n",
    "from ipywidgets import interact, FloatSlider, Layout, interactive\n",
    "from scipy.optimize import minimize\n"
   ]
  },
  {
   "attachments": {},
   "cell_type": "markdown",
   "metadata": {},
   "source": [
    "k401"
   ]
  },
  {
   "cell_type": "code",
   "execution_count": null,
   "metadata": {},
   "outputs": [],
   "source": [
    "paths = sorted(glob.glob(\"/Users/edgarlarios/Dropbox/SURF_activedrops/Edgar/k401-activedrops/img_*********_gfp-4x_000.tif\")) # The paths must be sorted\n",
    "calibration_curve_paths = sorted(glob.glob(\"/Users/edgarlarios/Dropbox/SURF_activedrops/Edgar/calibration_curve/***ugml.tif\")) # These paths must also be sorted\n",
    "\n",
    "# Provide your specific values for N_p, N_m, D, and initial guesses - Known data\n",
    "N_p = 401  # Number of amino acids\n",
    "N_m = 2097  # Number of nucleotides\n",
    "D = 100  # DNA concentration\n",
    "\n",
    "# Initial guesses for the optimization parameters -- Reasonable guesses\n",
    "k_TL = 10      # Translation rate constant (1/s)\n",
    "k_TX = 1       # Transcription rate constant (1/s)\n",
    "R_p = 30       # Protein production rate (molecules/s)\n",
    "tau_m = 720    # Mean lifetime of mRNA (s)\n",
    "K_TL = 5       # Translation efficiency constant (unitless)\n",
    "R = 80        # Ribosome concentration (units)\n",
    "k_deg = 0.01   # Degradation rate constant (1/s)\n",
    "X_p = 1        # Protein concentration (nM)\n",
    "K_p = 4        # Protein degradation constant (nM)\n",
    "tau_0 = 0     # Initial time delay (s)\n",
    "tau_f = 300    # Final time delay (s)\n",
    "\n",
    "initial_guesses = [k_TL, k_TX, R_p, tau_m, K_TL, R, k_deg, X_p, K_p, tau_0, tau_f] # ***In the future, ask for inputs to the user\n",
    "\n",
    "# Time interval should be given in minutes, volume of the droplet should be given in microliters, molecular weight should be given in kDa\n",
    "mp2.runFullAnalysis(paths, calibration_curve_paths, 3, 2, 78.2, N_p, N_m, D, initial_guesses, \"experimentalData_k401.csv\", \"optimizedParameters_k401.csv\")"
   ]
  }
 ],
 "metadata": {
  "language_info": {
   "name": "python"
  },
  "orig_nbformat": 4
 },
 "nbformat": 4,
 "nbformat_minor": 2
}
